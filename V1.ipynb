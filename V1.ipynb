{
  "nbformat": 4,
  "nbformat_minor": 0,
  "metadata": {
    "colab": {
      "provenance": [],
      "collapsed_sections": [],
      "authorship_tag": "ABX9TyP30Jc6zsspUdEO+phyuHFm",
      "include_colab_link": true
    },
    "kernelspec": {
      "name": "python3",
      "display_name": "Python 3"
    },
    "language_info": {
      "name": "python"
    }
  },
  "cells": [
    {
      "cell_type": "markdown",
      "metadata": {
        "id": "view-in-github",
        "colab_type": "text"
      },
      "source": [
        "<a href=\"https://colab.research.google.com/github/Shreyas-13/CV-CS/blob/main/V1.ipynb\" target=\"_parent\"><img src=\"https://colab.research.google.com/assets/colab-badge.svg\" alt=\"Open In Colab\"/></a>"
      ]
    },
    {
      "cell_type": "markdown",
      "source": [
        "### Infrared Images"
      ],
      "metadata": {
        "id": "s-I3ZORViEOq"
      }
    },
    {
      "cell_type": "code",
      "source": [],
      "metadata": {
        "id": "9VxrwVzWhlRM"
      },
      "execution_count": null,
      "outputs": []
    }
  ]
}